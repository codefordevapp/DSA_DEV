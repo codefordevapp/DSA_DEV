{
 "cells": [
  {
   "cell_type": "markdown",
   "id": "be182c05-01e2-448c-81b0-8d186cfee744",
   "metadata": {},
   "source": [
    "<h2>Buble Sort</h2>"
   ]
  },
  {
   "cell_type": "code",
   "execution_count": 2,
   "id": "7fa35880-39a5-45d2-a010-6e03461afd2f",
   "metadata": {},
   "outputs": [
    {
     "data": {
      "text/plain": [
       "[1, 2, 3, 5, 6, 7, 9]"
      ]
     },
     "execution_count": 2,
     "metadata": {},
     "output_type": "execute_result"
    }
   ],
   "source": [
    " def bubbleSort(arr):\n",
    "\n",
    "    for i in range(len(arr)):\n",
    "        swap = False\n",
    "        for j in range(1, len(arr)-i):\n",
    "            if arr[j - 1] > arr[j]:\n",
    "                arr[j], arr[j-1] = arr[j-1], arr[j]\n",
    "                swap = True\n",
    "        if not swap:\n",
    "            return arr\n",
    "    return arr\n",
    "\n",
    "\n",
    "arr =[5, 2, 7, 6, 3, 1, 9]\n",
    "bubbleSort(arr)"
   ]
  },
  {
   "cell_type": "code",
   "execution_count": null,
   "id": "476a8675-e36a-4b19-a059-c49f1a807a34",
   "metadata": {},
   "outputs": [],
   "source": []
  }
 ],
 "metadata": {
  "kernelspec": {
   "display_name": "Python 3 (ipykernel)",
   "language": "python",
   "name": "python3"
  },
  "language_info": {
   "codemirror_mode": {
    "name": "ipython",
    "version": 3
   },
   "file_extension": ".py",
   "mimetype": "text/x-python",
   "name": "python",
   "nbconvert_exporter": "python",
   "pygments_lexer": "ipython3",
   "version": "3.12.7"
  }
 },
 "nbformat": 4,
 "nbformat_minor": 5
}
